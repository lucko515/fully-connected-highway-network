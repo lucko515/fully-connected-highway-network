{
 "cells": [
  {
   "cell_type": "markdown",
   "metadata": {},
   "source": [
    "The dataset used in this project is MNIST dataset, you can download it by using built-in tensorflow functions.\n",
    "\n",
    "\n",
    "For more information about Highway Networks read:\n",
    "\n",
    "[Highway Networks](https://arxiv.org/pdf/1505.00387.pdf)\n",
    "\n",
    "[This blog post](https://medium.com/jim-fleming/highway-networks-with-tensorflow-1e6dfa667daa)"
   ]
  },
  {
   "cell_type": "code",
   "execution_count": 1,
   "metadata": {
    "collapsed": true
   },
   "outputs": [],
   "source": [
    "import tensorflow as tf\n",
    "from tensorflow.examples.tutorials.mnist import input_data\n",
    "import numpy as np"
   ]
  },
  {
   "cell_type": "code",
   "execution_count": 2,
   "metadata": {
    "collapsed": false
   },
   "outputs": [
    {
     "name": "stdout",
     "output_type": "stream",
     "text": [
      "Extracting MNIST_data\\train-images-idx3-ubyte.gz\n",
      "Extracting MNIST_data\\train-labels-idx1-ubyte.gz\n",
      "Extracting MNIST_data\\t10k-images-idx3-ubyte.gz\n",
      "Extracting MNIST_data\\t10k-labels-idx1-ubyte.gz\n"
     ]
    }
   ],
   "source": [
    "mnist_data = input_data.read_data_sets(\"MNIST_data\", one_hot=True)"
   ]
  },
  {
   "cell_type": "markdown",
   "metadata": {},
   "source": [
    "### Step 1. Define helper functions"
   ]
  },
  {
   "cell_type": "code",
   "execution_count": 3,
   "metadata": {
    "collapsed": true
   },
   "outputs": [],
   "source": [
    "def weights_init(shape):\n",
    "    '''\n",
    "    Weights initialization helper function.\n",
    "    \n",
    "    Input(s): shape - Type: int list, Example: [5, 5, 32, 32], This parameter is used to define dimensions of weights tensor\n",
    "    \n",
    "    Output: tensor of weights in shape defined with the input to this function\n",
    "    '''\n",
    "    return tf.Variable(tf.truncated_normal(shape, stddev=0.05))"
   ]
  },
  {
   "cell_type": "code",
   "execution_count": 4,
   "metadata": {
    "collapsed": true
   },
   "outputs": [],
   "source": [
    "def bias_init(shape, bias_init=0.05):\n",
    "    '''\n",
    "    Bias initialization helper function.\n",
    "    \n",
    "    Input(s): shape - Type: int list, Example: [32], This parameter is used to define dimensions of bias tensor.\n",
    "              bias_value - Type: float number, Example: 0.01, This parameter is set to be value of bias tensor.\n",
    "    \n",
    "    Output: tensor of biases in shape defined with the input to this function\n",
    "    '''\n",
    "    return tf.Variable(tf.constant(bias_init, shape=shape))"
   ]
  },
  {
   "cell_type": "code",
   "execution_count": 5,
   "metadata": {
    "collapsed": true
   },
   "outputs": [],
   "source": [
    "def fully_connected_layer(input, input_shape, output_shape, activation=tf.nn.relu):\n",
    "   '''\n",
    "    This function is used to define a fully connected layer for a network,\n",
    "    \n",
    "    Input(s): input - this is input into fully connected (Dense) layer (Previous layer or an image)\n",
    "              input_size - how many neurons/features the input tensor has. Example: input.shape[1]\n",
    "              output_shape - how many neurons this layer will have\n",
    "              activation - the non-linear function used at this layer.    \n",
    "              \n",
    "    Output: fully connected layer with input parameters.\n",
    "    '''\n",
    "    weights = weights_init([input_shape, output_shape]) \n",
    "    bias = bias_init([output_shape])\n",
    "    layer = tf.add(tf.matmul(input, weights), bias) #x*w + b\n",
    "    \n",
    "    if activation != None:\n",
    "        return activation(layer)\n",
    "    else:\n",
    "        return layer"
   ]
  },
  {
   "cell_type": "markdown",
   "metadata": {},
   "source": [
    "The **highway layer** what we want are two “gates” that control the flow of information. The “transform” gate controls how much of the activation we pass through and the “carry” gate controls how much of the unmodified input we pass through.\n",
    "\n",
    "The formula for the highway layer:\n",
    "![](formula_highway_layer.png?raw=true)"
   ]
  },
  {
   "cell_type": "code",
   "execution_count": 6,
   "metadata": {
    "collapsed": false
   },
   "outputs": [],
   "source": [
    "def highway_fc_layer(input, hidden_layer_size, carry_b = -2.0, activation=tf.nn.relu):\n",
    "    '''\n",
    "    The function used to crate Highway fully connected layer in the network.\n",
    "    \n",
    "    Inputs: input - data input\n",
    "            hidden_layer_size - number of neurons in the hidden layers (highway layers)\n",
    "            carry_b -  value for the carry bias used in transform gate\n",
    "            activation - non-linear function used at this layer\n",
    "    '''\n",
    "    #Step 1. Define weights and biases for the activation gate\n",
    "    weights_normal = weights_init([hidden_layer_size, hidden_layer_size])\n",
    "    bias_normal = bias_init([hidden_layer_size])\n",
    "    \n",
    "    #Step 2. Define weights and biases for the transform gate\n",
    "    weights_transform = weights_init([hidden_layer_size, hidden_layer_size])\n",
    "    bias_transform = bias_init(shape=[hidden_layer_size], bias_init=carry_b)\n",
    "    \n",
    "    #Step 3. calculate activation gate\n",
    "    H = activation(tf.matmul(input, weights_normal) + bias_normal, name=\"Input_gate\")\n",
    "    #Step 4. calculate transform game\n",
    "    T = tf.nn.sigmoid(tf.matmul(input, weights_transform) +bias_transform, name=\"T_gate\")\n",
    "    #Step 5. calculate carry get (1 - T)\n",
    "    C = tf.subtract(1.0, T, name='C_gate')\n",
    "    # y = (H * T) + (x * C)\n",
    "    #Final step 6. campute the output from the highway fully connected layer\n",
    "    y = tf.add(tf.multiply(H, T), tf.multiply(input, C), name='output_highway')\n",
    "    return y"
   ]
  },
  {
   "cell_type": "code",
   "execution_count": 23,
   "metadata": {
    "collapsed": true
   },
   "outputs": [],
   "source": [
    "#defining hyperparams\n",
    "input_shape = 784 #28x28x1 <- Number of pixels of MNIST image\n",
    "\n",
    "hidden_size = 50 # This is number of neurons used at EVERY hidden highway layer, you can test with this number\n",
    "                #but becuase we have highway (deep) network this number doesn't have to be very large\n",
    "\n",
    "output_size = 10 # number of neurons at the output layer, 10 because we have 10 classes\n",
    "\n",
    "number_of_layers = 18 # this is another hyperparam to care about in highway networks, play with it \n",
    "\n",
    "cary_bias = -20.0 # This is cary bias used at transform gate inside highway layer\n",
    "\n",
    "epochs = 40 # How many times are we going to run through whole dataset\n",
    "\n",
    "batch_size = 64 # How many data samples to feed to a network at onces\n",
    "\n",
    "learning_rate = 0.01"
   ]
  },
  {
   "cell_type": "markdown",
   "metadata": {},
   "source": [
    "### Step 2. Define HIGHWAY network"
   ]
  },
  {
   "cell_type": "code",
   "execution_count": 8,
   "metadata": {
    "collapsed": true
   },
   "outputs": [],
   "source": [
    "#Defining inputs to tensorflow graph, one is for images - inputs, and another one is for classes - targets\n",
    "inputs = tf.placeholder(tf.float32, shape=[None, input_shape], name='Input')\n",
    "targets = tf.placeholder(tf.float32, shape=[None, output_size], name='output')"
   ]
  },
  {
   "cell_type": "code",
   "execution_count": 9,
   "metadata": {
    "collapsed": false
   },
   "outputs": [],
   "source": [
    "#Defining HIGHWAY NETWORK\n",
    "prev_layer = None\n",
    "output = None\n",
    "for layer in range(number_of_layers):\n",
    "    \n",
    "    if layer == 0:\n",
    "        #This for input layer\n",
    "        prev_layer = fully_connected_layer(inputs, input_shape, hidden_size)\n",
    "    elif layer == number_of_layers-1:\n",
    "        #This if for output layer\n",
    "        output = fully_connected_layer(prev_layer, hidden_size, output_size, activation=None)\n",
    "    else:\n",
    "        # for any layer between input and output layer\n",
    "        prev_layer = highway_fc_layer(prev_layer, hidden_size, carry_b=cary_bias)        "
   ]
  },
  {
   "cell_type": "code",
   "execution_count": 10,
   "metadata": {
    "collapsed": false
   },
   "outputs": [],
   "source": [
    "#Defining error/cost/loss function and optimizier\n",
    "cost = tf.reduce_sum(tf.nn.softmax_cross_entropy_with_logits(logits=output, labels=targets)) #this is standard cross entropy loss\n",
    "optimizer = tf.train.GradientDescentOptimizer(learning_rate).minimize(cost)"
   ]
  },
  {
   "cell_type": "code",
   "execution_count": 11,
   "metadata": {
    "collapsed": true
   },
   "outputs": [],
   "source": [
    "#This is used only for testing\n",
    "y_pred = tf.nn.softmax(output)\n",
    "y_pred_scores = tf.argmax(y_pred, 1)\n",
    "y_true = tf.argmax(targets, 1)"
   ]
  },
  {
   "cell_type": "code",
   "execution_count": 12,
   "metadata": {
    "collapsed": true
   },
   "outputs": [],
   "source": [
    "#Getting accuracy\n",
    "correct_prediction = tf.equal(y_pred_scores, y_true)\n",
    "accuracy = tf.reduce_mean(tf.cast(correct_prediction, tf.float32))"
   ]
  },
  {
   "cell_type": "code",
   "execution_count": 13,
   "metadata": {
    "collapsed": true
   },
   "outputs": [],
   "source": [
    "# if you make some mistake or change the structure of your network, good practice is to reset default graph.\n",
    "# tf.reset_default_graph()"
   ]
  },
  {
   "cell_type": "code",
   "execution_count": 14,
   "metadata": {
    "collapsed": true
   },
   "outputs": [],
   "source": [
    "session = tf.Session()"
   ]
  },
  {
   "cell_type": "code",
   "execution_count": 15,
   "metadata": {
    "collapsed": true
   },
   "outputs": [],
   "source": [
    "session.run(tf.global_variables_initializer())"
   ]
  },
  {
   "cell_type": "markdown",
   "metadata": {},
   "source": [
    "### Time for training this network\n",
    "    1. Define optimize function to train the network\n",
    "    2. Define two more, small, functions for testint and validating the network\n",
    "    3. Play AC/DC Highway to hell and train your first highway network :)"
   ]
  },
  {
   "cell_type": "code",
   "execution_count": 22,
   "metadata": {
    "collapsed": true
   },
   "outputs": [],
   "source": [
    "import time\n",
    "def optimize():\n",
    "    \n",
    "    for i in range(epochs):\n",
    "        epoch_cost = []\n",
    "        epoch_time = time.time()\n",
    "        for ii in range(mnist_data.train.num_examples//batch_size):\n",
    "            batch = mnist_data.train.next_batch(batch_size)\n",
    "            imgs = batch[0]\n",
    "            labs = batch[1]\n",
    "            \n",
    "            c, _ = session.run([cost, optimizer], feed_dict={inputs:imgs, targets:labs})\n",
    "\n",
    "            epoch_cost.append(c)\n",
    "        print(\"Epoch: {}/{}\".format(i+1, epochs), \" | Current loss: {}\".format(np.mean(epoch_cost)),\n",
    "             \"  |  Epoch time: {:.2f}s\".format(time.time() - epoch_time))\n",
    "        print(\"test accuracy %g\" % session.run(accuracy ,feed_dict={ inputs: mnist_data.test.images, targets: mnist_data.test.labels }))"
   ]
  },
  {
   "cell_type": "code",
   "execution_count": 17,
   "metadata": {
    "collapsed": true
   },
   "outputs": [],
   "source": [
    "def test_model():\n",
    "    return session.run(accuracy, feed_dict={inputs:mnist_data.test.images, \n",
    "                                           targets:mnist_data.test.labels})"
   ]
  },
  {
   "cell_type": "code",
   "execution_count": 18,
   "metadata": {
    "collapsed": true
   },
   "outputs": [],
   "source": [
    "def validate_model():\n",
    "    return session.run(accuracy, feed_dict={inputs:mnist_data.validation.images, \n",
    "                                           targets:mnist_data.validation.labels})"
   ]
  },
  {
   "cell_type": "code",
   "execution_count": 24,
   "metadata": {
    "collapsed": false
   },
   "outputs": [
    {
     "name": "stdout",
     "output_type": "stream",
     "text": [
      "Epoch: 1/40  | Current loss: 1.0439070463180542   |  Epoch time: 4.13s\n",
      "test accuracy 0.9704\n",
      "Epoch: 2/40  | Current loss: 0.8419095873832703   |  Epoch time: 4.11s\n",
      "test accuracy 0.9701\n",
      "Epoch: 3/40  | Current loss: 0.6185269355773926   |  Epoch time: 4.16s\n",
      "test accuracy 0.9684\n",
      "Epoch: 4/40  | Current loss: 0.7163951396942139   |  Epoch time: 4.08s\n",
      "test accuracy 0.9726\n",
      "Epoch: 5/40  | Current loss: 0.6212238073348999   |  Epoch time: 4.17s\n",
      "test accuracy 0.973\n",
      "Epoch: 6/40  | Current loss: 0.5380747318267822   |  Epoch time: 4.13s\n",
      "test accuracy 0.9712\n",
      "Epoch: 7/40  | Current loss: 0.41859257221221924   |  Epoch time: 4.19s\n",
      "test accuracy 0.9727\n",
      "Epoch: 8/40  | Current loss: 0.2758252024650574   |  Epoch time: 4.08s\n",
      "test accuracy 0.9725\n",
      "Epoch: 9/40  | Current loss: 0.1436740756034851   |  Epoch time: 4.09s\n",
      "test accuracy 0.9727\n",
      "Epoch: 10/40  | Current loss: 0.1168537512421608   |  Epoch time: 4.11s\n",
      "test accuracy 0.9724\n",
      "Epoch: 11/40  | Current loss: 0.08351754397153854   |  Epoch time: 4.08s\n",
      "test accuracy 0.9723\n",
      "Epoch: 12/40  | Current loss: 0.06618251651525497   |  Epoch time: 4.12s\n",
      "test accuracy 0.9722\n",
      "Epoch: 13/40  | Current loss: 0.05692797526717186   |  Epoch time: 4.38s\n",
      "test accuracy 0.9732\n",
      "Epoch: 14/40  | Current loss: 0.04889671131968498   |  Epoch time: 4.58s\n",
      "test accuracy 0.9728\n",
      "Epoch: 15/40  | Current loss: 0.043309129774570465   |  Epoch time: 4.34s\n",
      "test accuracy 0.9727\n",
      "Epoch: 16/40  | Current loss: 0.03965659439563751   |  Epoch time: 4.18s\n",
      "test accuracy 0.9727\n",
      "Epoch: 17/40  | Current loss: 0.03715166822075844   |  Epoch time: 4.26s\n",
      "test accuracy 0.9739\n",
      "Epoch: 18/40  | Current loss: 0.034929871559143066   |  Epoch time: 4.51s\n",
      "test accuracy 0.9734\n",
      "Epoch: 19/40  | Current loss: 0.03327011689543724   |  Epoch time: 4.49s\n",
      "test accuracy 0.9733\n",
      "Epoch: 20/40  | Current loss: 0.03205041587352753   |  Epoch time: 4.30s\n",
      "test accuracy 0.9733\n",
      "Epoch: 21/40  | Current loss: 0.030292773619294167   |  Epoch time: 4.48s\n",
      "test accuracy 0.9734\n",
      "Epoch: 22/40  | Current loss: 0.029245072975754738   |  Epoch time: 4.41s\n",
      "test accuracy 0.9732\n",
      "Epoch: 23/40  | Current loss: 0.028015172109007835   |  Epoch time: 4.39s\n",
      "test accuracy 0.9735\n",
      "Epoch: 24/40  | Current loss: 0.026994485408067703   |  Epoch time: 4.23s\n",
      "test accuracy 0.9735\n",
      "Epoch: 25/40  | Current loss: 0.025992972776293755   |  Epoch time: 4.15s\n",
      "test accuracy 0.9729\n",
      "Epoch: 26/40  | Current loss: 0.024822397157549858   |  Epoch time: 4.25s\n",
      "test accuracy 0.9735\n",
      "Epoch: 27/40  | Current loss: 0.024290721863508224   |  Epoch time: 4.52s\n",
      "test accuracy 0.973\n",
      "Epoch: 28/40  | Current loss: 0.023760385811328888   |  Epoch time: 4.55s\n",
      "test accuracy 0.9734\n",
      "Epoch: 29/40  | Current loss: 0.022617002949118614   |  Epoch time: 4.58s\n",
      "test accuracy 0.9736\n",
      "Epoch: 30/40  | Current loss: 0.022035440430045128   |  Epoch time: 4.78s\n",
      "test accuracy 0.9734\n",
      "Epoch: 31/40  | Current loss: 0.021758820861577988   |  Epoch time: 4.44s\n",
      "test accuracy 0.9734\n",
      "Epoch: 32/40  | Current loss: 0.02105626091361046   |  Epoch time: 4.42s\n",
      "test accuracy 0.9738\n",
      "Epoch: 33/40  | Current loss: 0.02055741287767887   |  Epoch time: 4.50s\n",
      "test accuracy 0.9735\n",
      "Epoch: 34/40  | Current loss: 0.019916249439120293   |  Epoch time: 4.44s\n",
      "test accuracy 0.9735\n",
      "Epoch: 35/40  | Current loss: 0.01944834738969803   |  Epoch time: 4.43s\n",
      "test accuracy 0.974\n",
      "Epoch: 36/40  | Current loss: 0.01913072168827057   |  Epoch time: 4.38s\n",
      "test accuracy 0.9731\n",
      "Epoch: 37/40  | Current loss: 0.018358422443270683   |  Epoch time: 4.38s\n",
      "test accuracy 0.9735\n",
      "Epoch: 38/40  | Current loss: 0.01821170002222061   |  Epoch time: 4.42s\n",
      "test accuracy 0.9734\n",
      "Epoch: 39/40  | Current loss: 0.017908858135342598   |  Epoch time: 4.28s\n",
      "test accuracy 0.9732\n",
      "Epoch: 40/40  | Current loss: 0.017182093113660812   |  Epoch time: 4.39s\n",
      "test accuracy 0.9738\n"
     ]
    }
   ],
   "source": [
    "optimize()"
   ]
  },
  {
   "cell_type": "code",
   "execution_count": 25,
   "metadata": {
    "collapsed": false
   },
   "outputs": [
    {
     "data": {
      "text/plain": [
       "0.97380012"
      ]
     },
     "execution_count": 25,
     "metadata": {},
     "output_type": "execute_result"
    }
   ],
   "source": [
    "test_model()"
   ]
  },
  {
   "cell_type": "code",
   "execution_count": 26,
   "metadata": {
    "collapsed": false
   },
   "outputs": [
    {
     "data": {
      "text/plain": [
       "0.97719967"
      ]
     },
     "execution_count": 26,
     "metadata": {},
     "output_type": "execute_result"
    }
   ],
   "source": [
    "validate_model()"
   ]
  },
  {
   "cell_type": "code",
   "execution_count": null,
   "metadata": {
    "collapsed": true
   },
   "outputs": [],
   "source": [
    "# close session after you finish with using your network\n",
    "# session.close()"
   ]
  }
 ],
 "metadata": {
  "kernelspec": {
   "display_name": "Python 3",
   "language": "python",
   "name": "python3"
  },
  "language_info": {
   "codemirror_mode": {
    "name": "ipython",
    "version": 3
   },
   "file_extension": ".py",
   "mimetype": "text/x-python",
   "name": "python",
   "nbconvert_exporter": "python",
   "pygments_lexer": "ipython3",
   "version": "3.5.3"
  }
 },
 "nbformat": 4,
 "nbformat_minor": 0
}
